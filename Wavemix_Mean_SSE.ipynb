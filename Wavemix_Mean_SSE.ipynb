{
 "cells": [
  {
   "cell_type": "code",
   "execution_count": 2,
   "metadata": {},
   "outputs": [
    {
     "name": "stdout",
     "output_type": "stream",
     "text": [
      "        Image  MSE_Bilinear  MSE_Bicubic  MSE_Nearest   MSE_Model\n",
      "0  0804x2.png     85.610879    63.311168   100.479395   41.902860\n",
      "1  0809x2.png     20.134811    11.800485    28.491521    7.892705\n",
      "2  0820x2.png    184.990433   128.118131   219.422703   56.260582\n",
      "3  0846x2.png    185.966193   142.388565   199.560043   71.988089\n",
      "4  0850x2.png     71.835322    56.801367    78.044734   32.280629\n",
      "5  0855x2.png     52.386281    40.660039    58.252612   31.054350\n",
      "6  0866x2.png    130.443994   102.415332   137.248531   85.694887\n",
      "7  0869x2.png    198.582595   158.899287   195.781864  103.219478\n",
      "8  0874x2.png     48.817761    37.551371    52.999818   24.792822\n",
      "9  0888x2.png     50.707544    36.718218    68.505541   24.075763\n"
     ]
    }
   ],
   "source": [
    "import cv2\n",
    "import numpy as np\n",
    "import os\n",
    "import pandas as pd\n",
    "from pathlib import Path\n",
    "\n",
    "data_path = Path.cwd() / \"data\"\n",
    "\n",
    "\n",
    "low_res_path = data_path /\"Test Images/Low Res\"\n",
    "original_path = data_path/\"Test Images/Original\"\n",
    "model_output_path = data_path/\"Test Images/Model Output\"\n",
    "\n",
    "# Function to calculate Mean SSE (MSE)\n",
    "def calculate_mse(imageA, imageB):\n",
    "    return np.mean((imageA.astype(\"float\") - imageB.astype(\"float\")) ** 2)\n",
    "\n",
    "results = []\n",
    "\n",
    "for filename in os.listdir(low_res_path):\n",
    "    if filename.endswith(\".png\"):\n",
    "        low_res_img = cv2.imread(os.path.join(low_res_path, filename))\n",
    "        model_img = cv2.imread(os.path.join(model_output_path, filename))\n",
    "\n",
    "        # Remove 'x2' suffix to find the corresponding high-res image in the \"Original\" folder\n",
    "        original_filename = filename.replace(\"x2\", \"\")\n",
    "        high_res_img = cv2.imread(os.path.join(original_path, original_filename))\n",
    "\n",
    "        # Check if images are loaded successfully\n",
    "        if low_res_img is None or high_res_img is None or model_img is None:\n",
    "            print(f\"Error loading one or more images for {filename}. Skipping this file.\")\n",
    "            continue\n",
    "\n",
    "        # Get dimensions for upscaling\n",
    "        height, width = high_res_img.shape[:2]\n",
    "        \n",
    "        # Upscale using different interpolation methods\n",
    "        bilinear_upscaled = cv2.resize(low_res_img, (width, height), interpolation=cv2.INTER_LINEAR)\n",
    "        bicubic_upscaled = cv2.resize(low_res_img, (width, height), interpolation=cv2.INTER_CUBIC)\n",
    "        nearest_upscaled = cv2.resize(low_res_img, (width, height), interpolation=cv2.INTER_NEAREST)\n",
    "\n",
    "        # Calculate Mean SSE for each method\n",
    "        mse_bilinear = calculate_mse(bilinear_upscaled, high_res_img)\n",
    "        mse_bicubic = calculate_mse(bicubic_upscaled, high_res_img)\n",
    "        mse_nearest = calculate_mse(nearest_upscaled, high_res_img)\n",
    "        mse_model = calculate_mse(model_img, high_res_img)\n",
    "\n",
    "        # Store results\n",
    "        results.append({\n",
    "            \"Image\": filename,\n",
    "            \"MSE_Bilinear\": mse_bilinear,\n",
    "            \"MSE_Bicubic\": mse_bicubic,\n",
    "            \"MSE_Nearest\": mse_nearest,\n",
    "            \"MSE_Model\": mse_model\n",
    "        })\n",
    "\n",
    "# Create a DataFrame for better readability\n",
    "results_df = pd.DataFrame(results)\n",
    "print(results_df)\n"
   ]
  }
 ],
 "metadata": {
  "kernelspec": {
   "display_name": "Python 3",
   "language": "python",
   "name": "python3"
  },
  "language_info": {
   "codemirror_mode": {
    "name": "ipython",
    "version": 3
   },
   "file_extension": ".py",
   "mimetype": "text/x-python",
   "name": "python",
   "nbconvert_exporter": "python",
   "pygments_lexer": "ipython3",
   "version": "3.12.5"
  }
 },
 "nbformat": 4,
 "nbformat_minor": 2
}

{
 "cells": [
  {
   "cell_type": "code",
   "execution_count": 12,
   "metadata": {},
   "outputs": [],
   "source": [
    "from pathlib import Path\n",
    "import random\n",
    "import matplotlib.pyplot as plt\n",
    "import torch\n",
    "from torch import nn\n",
    "from torch.utils.data import DataLoader\n",
    "from torch.utils.data import Dataset\n",
    "import torchvision\n",
    "import os\n",
    "import numpy as np\n",
    "import wavemix.sisr as sisr\n",
    "from PIL import Image\n",
    "from torchinfo import summary\n",
    "import gc\n",
    "import json"
   ]
  },
  {
   "cell_type": "code",
   "execution_count": 2,
   "metadata": {},
   "outputs": [],
   "source": [
    "device = torch.device(\"cuda\" if torch.cuda.is_available() else \"cpu\")"
   ]
  },
  {
   "cell_type": "code",
   "execution_count": 17,
   "metadata": {},
   "outputs": [],
   "source": [
    "data_path = Path.cwd() / \"data\"\n",
    "\n",
    "train_data_folder = data_path/\"DIV2K/DIV2K_train_LR_bicubic/X2\"\n",
    "test_data_folder = data_path/\"DIV2K/DIV2K_valid_LR_bicubic/X2\"\n",
    "\n",
    "train_data_targest_folder = data_path/\"DIV2K/DIV2K_train_HR\"\n",
    "test_data_targest_folder = data_path/\"DIV2K/DIV2K_valid_HR\"\n",
    "\n",
    "output_folder = data_path/\"output_bicubic_x2_valid\"\n",
    "os.makedirs(output_folder, exist_ok=True)"
   ]
  },
  {
   "cell_type": "code",
   "execution_count": 4,
   "metadata": {},
   "outputs": [],
   "source": [
    "class WaveMixSR(nn.Module):\n",
    "    def __init__(\n",
    "        self,\n",
    "        *,\n",
    "        depth,\n",
    "        mult = 1,\n",
    "        ff_channel = 16,\n",
    "        final_dim = 16,\n",
    "        dropout = 0.3,\n",
    "        scale_factor = 2\n",
    "    ):\n",
    "        super().__init__()\n",
    "        \n",
    "        self.layers = nn.ModuleList([])\n",
    "        for _ in range(depth):\n",
    "            self.layers.append(sisr.Level1Waveblock(mult = mult, ff_channel = ff_channel, final_dim = final_dim, dropout = dropout))\n",
    "        \n",
    "        self.final = nn.Sequential(\n",
    "            nn.Conv2d(final_dim,int(final_dim/2), 3, stride=1, padding=1),\n",
    "            nn.Conv2d(int(final_dim/2), 1, 1)\n",
    "        )\n",
    "\n",
    "\n",
    "        self.path1 = nn.Sequential(\n",
    "            nn.Upsample(scale_factor=scale_factor, mode='bilinear', align_corners = False),\n",
    "            nn.Conv2d(1, int(final_dim/2), 3, 1, 1),\n",
    "            nn.Conv2d(int(final_dim/2), final_dim, 3, 1, 1)\n",
    "        )\n",
    "\n",
    "        self.path2 = nn.Sequential(\n",
    "            nn.Upsample(scale_factor=int(scale_factor), mode='bilinear', align_corners = False),\n",
    "        )\n",
    "\n",
    "    def forward(self, img):\n",
    "\n",
    "        y = img[:, 0:1, :, :] \n",
    "        crcb = img[:, 1:3, :, :]\n",
    "\n",
    "        y = self.path1(y)\n",
    "\n",
    "\n",
    "        for attn in self.layers:\n",
    "            y = attn(y) + y\n",
    "\n",
    "        y = self.final(y)\n",
    "\n",
    "        crcb = self.path2(crcb)\n",
    "        \n",
    "        return  torch.cat((y,crcb), dim=1)"
   ]
  },
  {
   "cell_type": "code",
   "execution_count": 14,
   "metadata": {},
   "outputs": [
    {
     "name": "stderr",
     "output_type": "stream",
     "text": [
      "C:\\Users\\warre\\AppData\\Local\\Temp\\ipykernel_26504\\537843689.py:1: FutureWarning: You are using `torch.load` with `weights_only=False` (the current default value), which uses the default pickle module implicitly. It is possible to construct malicious pickle data which will execute arbitrary code during unpickling (See https://github.com/pytorch/pytorch/blob/main/SECURITY.md#untrusted-models for more details). In a future release, the default value for `weights_only` will be flipped to `True`. This limits the functions that could be executed during unpickling. Arbitrary objects will no longer be allowed to be loaded via this mode unless they are explicitly allowlisted by the user via `torch.serialization.add_safe_globals`. We recommend you start setting `weights_only=True` for any use case where you don't have full control of the loaded file. Please open an issue on GitHub for any issues related to this experimental feature.\n",
      "  weights = torch.load('weights.pth', map_location=device)\n"
     ]
    }
   ],
   "source": [
    "weights = torch.load('weights.pth', map_location=device)"
   ]
  },
  {
   "cell_type": "code",
   "execution_count": 15,
   "metadata": {},
   "outputs": [
    {
     "data": {
      "text/plain": [
       "<All keys matched successfully>"
      ]
     },
     "execution_count": 15,
     "metadata": {},
     "output_type": "execute_result"
    }
   ],
   "source": [
    "model = WaveMixSR(depth = 4, mult = 1, ff_channel = 144, final_dim = 144, dropout = 0.3, scale_factor = 2).to(device)\n",
    "model.load_state_dict(weights)"
   ]
  },
  {
   "cell_type": "code",
   "execution_count": 18,
   "metadata": {},
   "outputs": [],
   "source": [
    "losses = []\n",
    "\n",
    "model.eval()\n",
    "\n",
    "for image in os.listdir(test_data_folder):\n",
    "    img = Image.open(test_data_folder/image)\n",
    "    img = torchvision.transforms.ToTensor()(img)\n",
    "    img = img.unsqueeze(0).to(device)\n",
    "\n",
    "    with torch.no_grad():\n",
    "        output = model(img)\n",
    "        output = output.squeeze(0)\n",
    "        output = output.to('cpu')\n",
    "        output = output.detach().numpy()\n",
    "        output = output.transpose(1,2,0)\n",
    "        output = np.clip(output, 0, 1)\n",
    "        output = (output*255).astype(np.uint8)\n",
    "        biliear_img = Image.open(test_data_targest_folder/image.replace('x2',''))\n",
    "        loss = np.mean((np.array(biliear_img) - output)**2)\n",
    "        losses.append(loss)\n",
    "        output = Image.fromarray(output)\n",
    "        output.save(output_folder/image)\n",
    "\n",
    "losses_file = os.path.join(output_folder, \"losses.json\")\n",
    "with open(losses_file, 'w') as f:\n",
    "    json.dump(losses, f)\n",
    "    \n",
    "average_loss = sum(losses)/len(losses)"
   ]
  },
  {
   "cell_type": "code",
   "execution_count": null,
   "metadata": {},
   "outputs": [],
   "source": [
    "del model\n",
    "gc.collect()"
   ]
  }
 ],
 "metadata": {
  "kernelspec": {
   "display_name": "Python 3",
   "language": "python",
   "name": "python3"
  },
  "language_info": {
   "codemirror_mode": {
    "name": "ipython",
    "version": 3
   },
   "file_extension": ".py",
   "mimetype": "text/x-python",
   "name": "python",
   "nbconvert_exporter": "python",
   "pygments_lexer": "ipython3",
   "version": "3.12.7"
  }
 },
 "nbformat": 4,
 "nbformat_minor": 2
}
